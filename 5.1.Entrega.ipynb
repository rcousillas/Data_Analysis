{
 "cells": [
  {
   "cell_type": "markdown",
   "id": "41154291-76ee-416d-8106-9d47c52b272f",
   "metadata": {
    "id": "41154291-76ee-416d-8106-9d47c52b272f"
   },
   "source": [
    "# Análisis de ventas\n",
    "\n",
    "Se facilita una lista de `dict` con datos reales de ventas con las siguientes keys:\n",
    "\n",
    "* 'Order ID'\n",
    "* 'Product'\n",
    "* 'Quantity Ordered'\n",
    "* 'Price Each\n",
    "* 'Order Date'\n",
    "* 'Purchase Address'\n",
    "\n",
    "y values de tipo `str` en todos los casos:"
   ]
  },
  {
   "cell_type": "code",
   "execution_count": 288,
   "id": "b5d05795-bd04-427e-b8f4-004b9b52f160",
   "metadata": {
    "colab": {
     "base_uri": "https://localhost:8080/",
     "height": 217
    },
    "executionInfo": {
     "elapsed": 326,
     "status": "error",
     "timestamp": 1649220122908,
     "user": {
      "displayName": "Bibiana Rivadeneira",
      "userId": "13403832355809551391"
     },
     "user_tz": 180
    },
    "id": "b5d05795-bd04-427e-b8f4-004b9b52f160",
    "outputId": "6388b6b0-328d-4037-e9d2-1fd1c6efd9cd"
   },
   "outputs": [],
   "source": [
    "import pickle\n",
    "\n",
    "with open('sales_data.pickle', 'rb') as handle:\n",
    "    sales_data = pickle.load(handle)"
   ]
  },
  {
   "cell_type": "code",
   "execution_count": 2,
   "id": "85741068-6422-47f5-9361-f8027efe0432",
   "metadata": {},
   "outputs": [
    {
     "data": {
      "text/plain": [
       "186850"
      ]
     },
     "execution_count": 2,
     "metadata": {},
     "output_type": "execute_result"
    }
   ],
   "source": [
    "len(sales_data) # determino el largo del la base de datos sales datas y compruebo que tiene 186.850 diccionarios (del 0 a 186.849)"
   ]
  },
  {
   "cell_type": "code",
   "execution_count": 289,
   "id": "df83f9b6-be90-4811-9cbf-6e48169eae11",
   "metadata": {},
   "outputs": [
    {
     "data": {
      "text/plain": [
       "[{'Order ID': '209921',\n",
       "  'Product': 'USB-C Charging Cable',\n",
       "  'Quantity Ordered': '1',\n",
       "  'Price Each': '11.95',\n",
       "  'Order Date': '06/23/19 19:34',\n",
       "  'Purchase Address': '950 Walnut St, Portland, ME 04101'},\n",
       " {'Order ID': '209922',\n",
       "  'Product': 'Macbook Pro Laptop',\n",
       "  'Quantity Ordered': '1',\n",
       "  'Price Each': '1700.0',\n",
       "  'Order Date': '06/30/19 10:05',\n",
       "  'Purchase Address': '80 4th St, San Francisco, CA 94016'},\n",
       " {'Order ID': '209923',\n",
       "  'Product': 'ThinkPad Laptop',\n",
       "  'Quantity Ordered': '1',\n",
       "  'Price Each': '999.99',\n",
       "  'Order Date': '06/24/19 20:18',\n",
       "  'Purchase Address': '402 Jackson St, Los Angeles, CA 90001'},\n",
       " {'Order ID': '209924',\n",
       "  'Product': '27in FHD Monitor',\n",
       "  'Quantity Ordered': '1',\n",
       "  'Price Each': '149.99',\n",
       "  'Order Date': '06/05/19 10:21',\n",
       "  'Purchase Address': '560 10th St, Seattle, WA 98101'}]"
      ]
     },
     "execution_count": 289,
     "metadata": {},
     "output_type": "execute_result"
    }
   ],
   "source": [
    "sales_data[0:4]  # tomo un slice de los primeros tres diccionaros como muestra y referencia visual"
   ]
  },
  {
   "cell_type": "code",
   "execution_count": 290,
   "id": "d898f93e-48de-4c80-8f43-8473defcb812",
   "metadata": {},
   "outputs": [
    {
     "name": "stdout",
     "output_type": "stream",
     "text": [
      "186849\n"
     ]
    }
   ],
   "source": [
    "# Creo una estructura de datos igual a sales_data pero en esta lista cada value de cada key va a tener el tipo de datos que necesito\n",
    "sales_data_formated = []\n",
    "\n",
    "for i in range(len(sales_data[0:])):  # i es el rango de diccionarios del primero al último\n",
    "    try:\n",
    "        new_dict = {}  #  definí el diccionario dentro de la estructura de control de flujo porque por fuera me fuera de la misma da error\n",
    "        new_dict[\"Order ID\"] = str(sales_data[i][\"Order ID\"])\n",
    "        new_dict[\"Product\"] = str(sales_data[i][\"Product\"])\n",
    "        new_dict[\"Quantity Ordered\"] = int(sales_data[i][\"Quantity Ordered\"])\n",
    "        new_dict[\"Price Each\"] = float(sales_data[i][\"Price Each\"])\n",
    "        new_dict[\"Order Date\"] = str(sales_data[i][\"Order Date\"])\n",
    "        new_dict[\"Purchase Address\"] = (sales_data[i][\"Purchase Address\"]).split(\",\")[1]\n",
    "        sales_data_formated.append(new_dict)\n",
    "    except AttributeError:\n",
    "        continue\n",
    "    except ValueError:\n",
    "        continue\n",
    "print(i)    \n",
    "    \n",
    "    \n",
    "    \n",
    "      "
   ]
  },
  {
   "cell_type": "code",
   "execution_count": 291,
   "id": "1abe1922-d36f-4cd1-9727-282cd91430b1",
   "metadata": {},
   "outputs": [
    {
     "data": {
      "text/plain": [
       "185950"
      ]
     },
     "execution_count": 291,
     "metadata": {},
     "output_type": "execute_result"
    }
   ],
   "source": [
    "len(sales_data_formated)  # compruebo que la cantidad de objetos en sales_data_copy es igual a sales_data_copy"
   ]
  },
  {
   "cell_type": "code",
   "execution_count": 292,
   "id": "19febff3-a04d-45fd-8827-662af5a60b42",
   "metadata": {},
   "outputs": [
    {
     "data": {
      "text/plain": [
       "{'Order ID': '209923',\n",
       " 'Product': 'ThinkPad Laptop',\n",
       " 'Quantity Ordered': 1,\n",
       " 'Price Each': 999.99,\n",
       " 'Order Date': '06/24/19 20:18',\n",
       " 'Purchase Address': ' Los Angeles'}"
      ]
     },
     "execution_count": 292,
     "metadata": {},
     "output_type": "execute_result"
    }
   ],
   "source": [
    "sales_data_formated[2]  # Cómo se ve los diccionarios en esta nueva lista de diccionarios con cada key formateada"
   ]
  },
  {
   "cell_type": "code",
   "execution_count": 8,
   "id": "17619a07-fd06-49cf-90f8-6dfa7ada9067",
   "metadata": {},
   "outputs": [
    {
     "name": "stdout",
     "output_type": "stream",
     "text": [
      "{'Order ID': 'Order ID', 'Product': 'Product', 'Quantity Ordered': 'Quantity Ordered', 'Price Each': 'Price Each', 'Order Date': 'Order Date', 'Purchase Address': 'Purchase Address'}\n",
      "{'Order ID': nan, 'Product': nan, 'Quantity Ordered': nan, 'Price Each': nan, 'Order Date': nan, 'Purchase Address': nan}\n"
     ]
    }
   ],
   "source": [
    "\"Diccionario Nº 158\"\n",
    "print(sales_data[158]) # Surge de la primera iteración que los diccionarios que ocupan la posición 158 y 339 tienen values errores\n",
    "\n",
    "\"Diccionario Nº 339\"\n",
    "print(sales_data[339]) # Debido a esto cada vez que iteremos aparecerán los erorres TypeError y ValueError los cuáles se añadirán a las excepciones"
   ]
  },
  {
   "cell_type": "code",
   "execution_count": null,
   "id": "04a40655-01a1-4668-8562-a579e7d5ca27",
   "metadata": {
    "id": "bd39a5b1-28eb-471e-83a9-ab5f55b784bb",
    "outputId": "47bf3a43-cdd8-422a-fee6-2333d50ee821"
   },
   "outputs": [],
   "source": []
  },
  {
   "cell_type": "markdown",
   "id": "bd037fba-8a1e-4e91-a6fa-afd271f45373",
   "metadata": {
    "id": "bd775d37-d9b6-457f-acf3-6cf561dbc27f"
   },
   "source": [
    "Responder los siguientes interrogantes de interés, para lo que se requiere:\n",
    "\n",
    "* Inspeccionar los datos\n",
    "* Formatearlos adecuadamente\n",
    "* Elegir y confeccionar nuevas estructuras de datos"
   ]
  },
  {
   "cell_type": "code",
   "execution_count": 9,
   "id": "9d7c9580-c873-4e53-aa64-5515982f9ee2",
   "metadata": {
    "id": "9d7c9580-c873-4e53-aa64-5515982f9ee2"
   },
   "outputs": [
    {
     "data": {
      "text/plain": [
       "'06'"
      ]
     },
     "execution_count": 9,
     "metadata": {},
     "output_type": "execute_result"
    }
   ],
   "source": [
    "sales_data[0]['Order Date'][0:2]  # Determino por la forma en la que están estructurados los datos que el slice [0:2] del value de la key \n",
    "                                  # \"Order date de cada diccionario va a arrojarme los meses como estrings con un cero adelante. Ejemplo enero = \"01\" \n",
    "                                            "
   ]
  },
  {
   "cell_type": "code",
   "execution_count": 10,
   "id": "a38b3798-3527-4fb0-9740-8c1a8cea154a",
   "metadata": {},
   "outputs": [
    {
     "data": {
      "text/plain": [
       "{'Order ID': '209921',\n",
       " 'Product': 'USB-C Charging Cable',\n",
       " 'Quantity Ordered': '1',\n",
       " 'Price Each': '11.95',\n",
       " 'Order Date': '06/23/19 19:34',\n",
       " 'Purchase Address': '950 Walnut St, Portland, ME 04101'}"
      ]
     },
     "execution_count": 10,
     "metadata": {},
     "output_type": "execute_result"
    }
   ],
   "source": [
    "sales_data[0]"
   ]
  },
  {
   "cell_type": "code",
   "execution_count": 10,
   "id": "5654b9b7-5428-4539-849f-52879c3e4c88",
   "metadata": {},
   "outputs": [],
   "source": []
  },
  {
   "cell_type": "code",
   "execution_count": 12,
   "id": "7922789e-cc29-4be1-b180-9e0041df92d5",
   "metadata": {},
   "outputs": [
    {
     "name": "stdout",
     "output_type": "stream",
     "text": [
      "06\n",
      "06\n",
      "06\n",
      "06\n"
     ]
    }
   ],
   "source": [
    "for dict_sale in sales_data[0:4]:\n",
    "    print(dict_sale['Order Date'][0:2])  # esta era una forma de obtener los values de order date de todos los diccionario"
   ]
  },
  {
   "cell_type": "markdown",
   "id": "ac810a8d-c0ed-4373-bd22-2c6e2f969d8f",
   "metadata": {},
   "source": [
    "\n",
    "### Esta es otra forma de obtener todos los values de todas las keys \"Order Date\" de cada mes pero agregándonle las \"Quantity Ordered\" bajo el supuesto que una venta se compone de la cantidad de artículo que se compran, es decir una order ID con con un Quanityt Order de 2 artículo son dos ventas: "
   ]
  },
  {
   "cell_type": "code",
   "execution_count": 293,
   "id": "a81a2e12-b19e-4476-8ca0-eca87028eaae",
   "metadata": {},
   "outputs": [
    {
     "name": "stdout",
     "output_type": "stream",
     "text": [
      "dict_keys(['01', '02', '03', '04', '05', '06', '07', '08', '09', '10', '11', '12'])\n",
      "185949\n",
      "{'01': 10903, '02': 13449, '03': 17005, '04': 20558, '05': 18667, '06': 15253, '07': 16072, '08': 13448, '09': 13109, '10': 22703, '11': 19798, '12': 28114}\n"
     ]
    }
   ],
   "source": [
    "month_and_qty = {}     # Nuevo diccionario al cual voy a agregar a cada value que serúa iguala  los slices sales_data_formated[i]['Order Date'][0:2]\n",
    "order_months = []     # Creo una lista vacía a la cual le voy a ingresar los slices [0:2] de todas las keys [\"Order Date\"] en sales_date\n",
    "quantity_list = []\n",
    "# Si bien las keys son creadas en la estructura de control de flujos de abajo, la forma de setear todos los values de cada key en cero como entero que encontré fue esta\n",
    "month_and_qty[\"01\"] = 0   \n",
    "month_and_qty[\"02\"] = 0\n",
    "month_and_qty[\"03\"] = 0\n",
    "month_and_qty[\"04\"] = 0\n",
    "month_and_qty[\"05\"] = 0\n",
    "month_and_qty[\"06\"] = 0\n",
    "month_and_qty[\"07\"] = 0\n",
    "month_and_qty[\"08\"] = 0\n",
    "month_and_qty[\"09\"] = 0\n",
    "month_and_qty[\"10\"] = 0\n",
    "month_and_qty[\"11\"] = 0\n",
    "month_and_qty[\"12\"] = 0\n",
    "\n",
    "\n",
    "for i in range(len(sales_data_formated[0:])):  # i es el rango de diccionarios del primero al último\n",
    "        try:\n",
    "            \n",
    "            months = (sales_data_formated[i]['Order Date'][0:2])\n",
    "            order_months.append(months)\n",
    "            quantity = (sales_data_formated[i]['Quantity Ordered'])\n",
    "            quantity_list.append(quantity)\n",
    "            month_and_qty[months] += quantity\n",
    "        except TypeError:\n",
    "            continue\n",
    "        except ValueError:\n",
    "            continue\n",
    "\n",
    "print(month_and_qty.keys()) \n",
    "print(i)        \n",
    "print(month_and_qty)"
   ]
  },
  {
   "cell_type": "code",
   "execution_count": 14,
   "id": "a630c402-c120-413c-a5ab-77eca085f33b",
   "metadata": {},
   "outputs": [
    {
     "data": {
      "text/plain": [
       "1"
      ]
     },
     "execution_count": 14,
     "metadata": {},
     "output_type": "execute_result"
    }
   ],
   "source": [
    "sales_data_formated[0]['Quantity Ordered']"
   ]
  },
  {
   "cell_type": "code",
   "execution_count": 294,
   "id": "dee8695b-bb5d-412d-9682-e8cb319e4b7f",
   "metadata": {},
   "outputs": [
    {
     "name": "stdout",
     "output_type": "stream",
     "text": [
      "12\n"
     ]
    }
   ],
   "source": [
    "most_sales_month = max(month_and_qty) # determino el mes con la mayor cantidad de compras, este caso el value más alto del diccionario\n",
    "print(most_sales_month)"
   ]
  },
  {
   "cell_type": "markdown",
   "id": "d0ef365d-4688-4d7f-a0b9-844ef2cd7497",
   "metadata": {},
   "source": [
    "### Conteo de las compras por mes considerando una compra solo teniendo en cuenta cuanto se repite cada mes en toda la base de datos con independencia de la cantidad de productos: "
   ]
  },
  {
   "cell_type": "code",
   "execution_count": 14,
   "id": "2d19afc8-457c-47a3-9708-d556d6ff26c1",
   "metadata": {},
   "outputs": [
    {
     "name": "stdout",
     "output_type": "stream",
     "text": [
      "El mes de más compras es: 12\n",
      "Cantidad de orders por mes:\n",
      "Enero: 9709\n",
      "Febrero: 11975\n",
      "Marzo: 15153\n",
      "Abril: 18279\n",
      "Mayo: 16566\n",
      "Junio: 13554\n",
      "Julio: 14293\n",
      "Agosto: 11961\n",
      "Setiembre: 11621\n",
      "Octubre: 20282\n",
      "Noviembre: 17573\n",
      "Diciembre: 24984\n"
     ]
    }
   ],
   "source": [
    "print(f\"El mes de más compras es: {max(set(order_months), key = order_months.count)}\")  \n",
    "\n",
    "# conteo de las compras por mes considerando una compra solo teniendo en cuenta cuánto se repite cada mes en toda la base de datos con independencia de la cantidad de productos\n",
    "\n",
    "print(\"Cantidad de orders por mes:\")\n",
    "print(f'Enero: {order_months.count(\"01\")}')\n",
    "print(f'Febrero: {order_months.count(\"02\")}')\n",
    "print(f'Marzo: {order_months.count(\"03\")}')\n",
    "print(f'Abril: {order_months.count(\"04\")}')\n",
    "print(f'Mayo: {order_months.count(\"05\")}')\n",
    "print(f'Junio: {order_months.count(\"06\")}')\n",
    "print(f'Julio: {order_months.count(\"07\")}')\n",
    "print(f'Agosto: {order_months.count(\"08\")}')\n",
    "print(f'Setiembre: {order_months.count(\"09\")}')\n",
    "print(f'Octubre: {order_months.count(\"10\")}')\n",
    "print(f'Noviembre: {order_months.count(\"11\")}')\n",
    "print(f'Diciembre: {order_months.count(\"12\")}')\n",
    "\n",
    "# IMPORTANTE: Esta información no fue la que se tomó en cuenta para responder la consigna Nº 1, se usaron los datos, se usó la información que consideraba la quantity"
   ]
  },
  {
   "cell_type": "code",
   "execution_count": 296,
   "id": "cd31359c-5c20-4e7f-b912-1e632649df4c",
   "metadata": {},
   "outputs": [],
   "source": [
    "month = {\"01\" : \"Enero\",       # Creo un diccioarion donde paireo cada key (como string) 01 a 12 con su correspondiente mes como value\n",
    "          \"02\" : \"Febrero\",\n",
    "          \"03\" : \"Marzo\",\n",
    "          \"04\" : \"Abril\",\n",
    "          \"05\" : \"Mayo\",\n",
    "          \"06\" : \"Junio\",\n",
    "          \"07\" : \"Julio\",\n",
    "          \"08\" : \"Agosto\",\n",
    "          \"09\" : \"Setiembre\",\n",
    "          \"10\" : \"Octubre\",\n",
    "          \"11\" : \"Noviembre\",\n",
    "          \"12\" : \"Diciembre\"}"
   ]
  },
  {
   "cell_type": "markdown",
   "id": "65b001ce-12b7-4b6a-b5e0-f067307d5c3a",
   "metadata": {
    "id": "65b001ce-12b7-4b6a-b5e0-f067307d5c3a"
   },
   "source": [
    "**1)** ¿Cuál es el mes que reporta **la mayor cantidad de productos**? \n",
    "\n",
    "*Se espera*: `El mes de mayor venta es: {Enero/Febrero/Marzo/Abril...}` *(nótese que se debe printear el nombre del mes)*"
   ]
  },
  {
   "cell_type": "code",
   "execution_count": 297,
   "id": "3ec4c0a0-4aec-4756-bf25-0a4e79242293",
   "metadata": {
    "id": "3ec4c0a0-4aec-4756-bf25-0a4e79242293"
   },
   "outputs": [
    {
     "name": "stdout",
     "output_type": "stream",
     "text": [
      "1) ¿Cuál es el mes que reporta la mayor cantidad de productos?:\n",
      "El mes de mayor venta es: Diciembre\n"
     ]
    }
   ],
   "source": [
    "print(\"1) ¿Cuál es el mes que reporta la mayor cantidad de productos?:\")\n",
    "print(f'El mes de mayor venta es: {month[most_sales_month]}')  # Se tomó la información del criterio de que una si Quantity Order es mayor a uno es más de una compra"
   ]
  },
  {
   "cell_type": "markdown",
   "id": "111cd58e-7c14-437c-9a58-d269504d3dc6",
   "metadata": {
    "id": "111cd58e-7c14-437c-9a58-d269504d3dc6"
   },
   "source": [
    "**2)** ¿Qué ganancia reporta dicho mes?  \n",
    "*Se espera*: `En el mes de {Enero/Febrero/Marzo/Abril...} se reporta una ganancia total de USD{xxxx.xx}` *(nótese que el monto debe incluir DOS decimales)*"
   ]
  },
  {
   "cell_type": "code",
   "execution_count": 299,
   "id": "df5ce497-17a1-435e-ae14-8eefb72faf9c",
   "metadata": {},
   "outputs": [
    {
     "name": "stdout",
     "output_type": "stream",
     "text": [
      "dict_keys(['01', '02', '03', '04', '05', '06', '07', '08', '09', '10', '11', '12'])\n",
      "dict_values([1846617.1699999338, 2231919.5600000024, 2844364.960000371, 3442576.0200006873, 3193161.2300005425, 2613415.4200002085, 2683907.7600002564, 2276765.320000027, 2126247.40999994, 3785654.2000009315, 3243845.5600005756, 4672141.64000146])\n",
      "185949\n",
      "{'01': 1846617.1699999338, '02': 2231919.5600000024, '03': 2844364.960000371, '04': 3442576.0200006873, '05': 3193161.2300005425, '06': 2613415.4200002085, '07': 2683907.7600002564, '08': 2276765.320000027, '09': 2126247.40999994, '10': 3785654.2000009315, '11': 3243845.5600005756, '12': 4672141.64000146}\n"
     ]
    }
   ],
   "source": [
    "month_qty_price = {}\n",
    "order_months2 = []\n",
    "quantity_list2 = []\n",
    "price_each_list = []\n",
    "month_qty_price[\"01\"] = 0\n",
    "month_qty_price[\"02\"] = 0\n",
    "month_qty_price[\"03\"] = 0\n",
    "month_qty_price[\"04\"] = 0\n",
    "month_qty_price[\"05\"] = 0\n",
    "month_qty_price[\"06\"] = 0\n",
    "month_qty_price[\"07\"] = 0\n",
    "month_qty_price[\"08\"] = 0\n",
    "month_qty_price[\"09\"] = 0\n",
    "month_qty_price[\"10\"] = 0\n",
    "month_qty_price[\"11\"] = 0\n",
    "month_qty_price[\"12\"] = 0\n",
    "\n",
    "\n",
    "for i in range(len(sales_data_formated[0:])):  # i es el rango de diccionarios del primero al último\n",
    "        try:\n",
    "            months = (sales_data_formated[i]['Order Date'][0:2])\n",
    "            order_months2.append(months)\n",
    "            quantity = (sales_data_formated[i]['Quantity Ordered'])        \n",
    "            quantity_list2.append(quantity)\n",
    "            price_acumulated = (sales_data_formated[i]['Quantity Ordered']) * (sales_data_formated[i]['Price Each'])\n",
    "            price_each_list.append(price_acumulated)\n",
    "            month_qty_price[months] += round(int(quantity) * float(price_acumulated), 2)  # me pasa algo extraño, si pongo en 2 la cantidad de decimales me los muestra todo, no solo dos, por eso lo dejé en 1\n",
    "        except TypeError:\n",
    "            continue\n",
    "        except ValueError:\n",
    "            continue\n",
    "    \n",
    "\n",
    "\n",
    "print(month_qty_price.keys())\n",
    "print(month_qty_price.values())\n",
    "print(i)        \n",
    "print(month_qty_price)\n",
    "\n"
   ]
  },
  {
   "cell_type": "code",
   "execution_count": 56,
   "id": "272ba2b7-f1fb-4c2d-bde7-2984432717a7",
   "metadata": {},
   "outputs": [
    {
     "data": {
      "text/plain": [
       "'12'"
      ]
     },
     "execution_count": 56,
     "metadata": {},
     "output_type": "execute_result"
    }
   ],
   "source": [
    "max(month_qty_price)"
   ]
  },
  {
   "cell_type": "code",
   "execution_count": 300,
   "id": "906802e5-b32a-4274-a5db-87ca6a7644d8",
   "metadata": {},
   "outputs": [
    {
     "name": "stdout",
     "output_type": "stream",
     "text": [
      "2) ¿Qué ganancia reporta dicho mes?:\n",
      "En el mes de Diciembre se reporta una ganancia total de USD 4672141.64\n"
     ]
    }
   ],
   "source": [
    "print(\"2) ¿Qué ganancia reporta dicho mes?:\")\n",
    "print(f'En el mes de {month[most_sales_month]} se reporta una ganancia total de USD {round(month_qty_price[\"12\"], 2)}')"
   ]
  },
  {
   "cell_type": "markdown",
   "id": "f3eaeae9-19b6-4512-ba98-94f79613d3a5",
   "metadata": {},
   "source": [
    "**3)** ¿Qué porcentaje del total de las ventas representa?  \n",
    "*Se espera*: `Las ventas en el mes de {Enero/Febrero/Marzo/Abril...} representan un xx.xx% del total de las ventas` *(nótese que el monto debe incluir DOS decimales)*"
   ]
  },
  {
   "cell_type": "code",
   "execution_count": 301,
   "id": "6294a3f2-e381-479a-94a3-703282d429eb",
   "metadata": {
    "id": "6294a3f2-e381-479a-94a3-703282d429eb"
   },
   "outputs": [
    {
     "name": "stdout",
     "output_type": "stream",
     "text": [
      "34960616.25\n"
     ]
    }
   ],
   "source": [
    "total_sales_USD = round(month_qty_price[\"01\"] + \n",
    "      month_qty_price[\"02\"] + \n",
    "      month_qty_price[\"03\"] + \n",
    "      month_qty_price[\"04\"] + \n",
    "      month_qty_price[\"05\"] + \n",
    "      month_qty_price[\"06\"] + \n",
    "      month_qty_price[\"07\"] + \n",
    "      month_qty_price[\"08\"] +\n",
    "      month_qty_price[\"09\"] +\n",
    "      month_qty_price[\"10\"] +\n",
    "      month_qty_price[\"11\"] +\n",
    "      month_qty_price[\"12\"], 2)\n",
    "\n",
    "print(total_sales_USD)"
   ]
  },
  {
   "cell_type": "code",
   "execution_count": 302,
   "id": "05af571d-2727-4d3b-8026-aa1d808af2bd",
   "metadata": {},
   "outputs": [
    {
     "data": {
      "text/plain": [
       "13.36"
      ]
     },
     "execution_count": 302,
     "metadata": {},
     "output_type": "execute_result"
    }
   ],
   "source": [
    " round(month_qty_price[\"12\"]*100 / total_sales_USD, 2)"
   ]
  },
  {
   "cell_type": "code",
   "execution_count": 303,
   "id": "2305d1f8-0d6b-460f-9ea9-8e46661c6cb5",
   "metadata": {},
   "outputs": [
    {
     "name": "stdout",
     "output_type": "stream",
     "text": [
      "3) ¿Qué porcentaje del total de las ventas representa?:\n",
      " Las ventas en el mes de Diciembre representan un 13.36% del total de las ventas\n"
     ]
    }
   ],
   "source": [
    "print(\"3) ¿Qué porcentaje del total de las ventas representa?:\")\n",
    "print(f' Las ventas en el mes de {month[most_sales_month]} representan un {round(month_qty_price[\"12\"]*100 / total_sales_USD , 2)}% del total de las ventas')"
   ]
  },
  {
   "cell_type": "markdown",
   "id": "a123911e-0328-4600-9a7f-0753e79bbd6d",
   "metadata": {
    "id": "a123911e-0328-4600-9a7f-0753e79bbd6d"
   },
   "source": [
    "**4)** ¿Qué ciudad reportó la mayor cantidad de ventas?  \n",
    "*Se espera*: `La ciudad con mayor cantidad de ventas es {Dallas/Los Angeles/Boston...} reporta la mayor cantidad de ventas` *(nótese que se debe especificar la ciudad y no la dirección completa)*"
   ]
  },
  {
   "cell_type": "code",
   "execution_count": 304,
   "id": "bef35c63-34ac-4113-b85b-98f218116560",
   "metadata": {
    "id": "bef35c63-34ac-4113-b85b-98f218116560"
   },
   "outputs": [
    {
     "name": "stdout",
     "output_type": "stream",
     "text": [
      "185949\n",
      "185950\n"
     ]
    }
   ],
   "source": [
    "most_sales_city = []\n",
    "for i in range(len(sales_data_formated[0:])):  # i es el rango de diccionarios del primero al último\n",
    "    most_sales_city.append(sales_data_formated[i][\"Purchase Address\"])\n",
    "    \n",
    "        # le saco por ser muy largo print(i)\n",
    "       # le saco el print porque es muy largo print(sales_data[i]['Order Date'][0:2])\n",
    "    \n",
    "print(i)   \n",
    "print(len(most_sales_city))    # El len(most_sales_city) coincide con el len de sales_data_formated de ese modo nos garantizamos que ningún diccionario quedó fuera"
   ]
  },
  {
   "cell_type": "code",
   "execution_count": 305,
   "id": "3b3a2999-4715-46e5-a096-99543260ca1e",
   "metadata": {},
   "outputs": [
    {
     "name": "stdout",
     "output_type": "stream",
     "text": [
      " San Francisco\n"
     ]
    }
   ],
   "source": [
    "print(max(set(most_sales_city), key = most_sales_city.count))\n",
    "\n",
    "city_buy_most = (max(set(most_sales_city), key = most_sales_city.count))"
   ]
  },
  {
   "cell_type": "code",
   "execution_count": 306,
   "id": "713e2bde-8105-4d8f-84b9-f1d125227cbb",
   "metadata": {},
   "outputs": [
    {
     "name": "stdout",
     "output_type": "stream",
     "text": [
      "4) ¿Qué ciudad reportó la mayor cantidad de ventas?:\n",
      "La ciudad con mayor cantidad de ventas es San Francisco, reporta la mayor cantidad de ventas\n"
     ]
    }
   ],
   "source": [
    "print(\"4) ¿Qué ciudad reportó la mayor cantidad de ventas?:\")\n",
    "print(f\"La ciudad con mayor cantidad de ventas es{city_buy_most}, reporta la mayor cantidad de ventas\")"
   ]
  },
  {
   "cell_type": "markdown",
   "id": "7ff085be-3d8e-455b-a66b-c7e905f4c584",
   "metadata": {},
   "source": [
    "**5)** ¿Qué porcentaje del total de las ventas representa?  \n",
    "*Se espera*: `Las ventas en {Dallas/Los Angeles/Boston...} representan un xx.xx% del total` *(nótese que se debe especificar la ciudad y no la dirección completa)*"
   ]
  },
  {
   "cell_type": "code",
   "execution_count": 307,
   "id": "453f7fe3-fbb4-4aef-a006-c9840ff25feb",
   "metadata": {},
   "outputs": [
    {
     "name": "stdout",
     "output_type": "stream",
     "text": [
      "dict_keys([' Portland', ' San Francisco', ' Los Angeles', ' Seattle', ' New York City', ' Boston', ' Dallas', ' Atlanta', ' Austin'])\n",
      "185949\n",
      "{' Portland': 2320490.610000037, ' San Francisco': 8262203.910004014, ' Los Angeles': 5452570.800002112, ' Seattle': 2747755.4800003096, ' New York City': 4664317.43000156, ' Boston': 3661642.010000927, ' Dallas': 2767975.4000003138, ' Atlanta': 2795498.5800003433, ' Austin': 1819581.7499999108}\n",
      " San Francisco\n"
     ]
    }
   ],
   "source": [
    "city_qty_price = {} # Nuevo diccionario en el que cada key serán los values de sales_data_formated[\"Purchase Address\"] (ciudades) y sus values la cantidad de ventas por cada ciudad\n",
    "cities_list = []\n",
    "quantity_list3 = []\n",
    "# Si bien las keys son creadas en la estructura de control de flujos de abajo, la forma de setear todos los values de cada key en cero que encontré fue esta\n",
    "\n",
    "city_qty_price[' Portland'] = 0\n",
    "city_qty_price[' San Francisco'] = 0\n",
    "city_qty_price[' Los Angeles'] = 0\n",
    "city_qty_price[' Seattle'] = 0\n",
    "city_qty_price[' New York City'] = 0\n",
    "city_qty_price[' Boston'] = 0\n",
    "city_qty_price[' Dallas'] = 0\n",
    "city_qty_price[' Atlanta'] = 0\n",
    "city_qty_price[' Austin'] = 0\n",
    "\n",
    "\n",
    "\n",
    "for i in range(len(sales_data_formated[0:])):  # i es el rango de diccionarios del primero al último\n",
    "        try:\n",
    "            cities = (sales_data_formated[i][\"Purchase Address\"])  \n",
    "            cities_list.append(cities)\n",
    "            quantity2 = (sales_data_formated[i]['Quantity Ordered'])        \n",
    "            quantity_list3.append(quantity)\n",
    "            price_acumulated = (sales_data_formated[i]['Quantity Ordered']) * (sales_data_formated[i]['Price Each'])\n",
    "            price_each_list.append(price_acumulated)\n",
    "            city_qty_price[cities] += round(int(quantity) * float(price_acumulated), 2)  \n",
    "        except TypeError:\n",
    "            continue\n",
    "        except ValueError:\n",
    "            continue\n",
    "        \n",
    "\n",
    "print(city_qty_price.keys()) \n",
    "print(i)\n",
    "print(city_qty_price)\n",
    "print(max(city_qty_price, key = city_qty_price.get))"
   ]
  },
  {
   "cell_type": "code",
   "execution_count": 308,
   "id": "f1526a00-3370-4225-920b-36b87b2604f8",
   "metadata": {},
   "outputs": [
    {
     "name": "stdout",
     "output_type": "stream",
     "text": [
      "5) ¿Qué porcentaje del total de las ventas representa?:\n",
      " Las ventas en San Francisco representan un 23.63% del total\n"
     ]
    }
   ],
   "source": [
    "print(\"5) ¿Qué porcentaje del total de las ventas representa?:\")\n",
    "print(f\" Las ventas en{city_buy_most} representan un {round(city_qty_price[' San Francisco']*100 /total_sales_USD, 2)}% del total\")"
   ]
  },
  {
   "cell_type": "markdown",
   "id": "a050f86b-2f8d-4473-94a2-29c52ff47a5f",
   "metadata": {
    "id": "a050f86b-2f8d-4473-94a2-29c52ff47a5f"
   },
   "source": [
    "**6)** ¿En qué horas del día se deberían publicar anuncios promocionales para maximizar las ventas?  \n",
    "*Se espera*: `Las horas del día en las que más ventas se registran son: {xx}hs y {yy}hs` *(nótese que se requieren horas del día, como \"10hs\" o \"20hs\")*"
   ]
  },
  {
   "cell_type": "code",
   "execution_count": 309,
   "id": "d917acad-8db7-4725-ba74-a5ebd4af62fb",
   "metadata": {
    "id": "d917acad-8db7-4725-ba74-a5ebd4af62fb"
   },
   "outputs": [
    {
     "name": "stdout",
     "output_type": "stream",
     "text": [
      "dict_keys(['00', '01', '02', '03', '04', '05', '06', '07', '08', '09', '10', '11', '12', '13', '14', '15', '16', '17', '18', '19', '20', '21', '22', '23'])\n",
      "185949\n",
      "{'00': 4428, '01': 2619, '02': 1398, '03': 928, '04': 937, '05': 1493, '06': 2810, '07': 4556, '08': 7002, '09': 9816, '10': 12308, '11': 14005, '12': 14202, '13': 13685, '14': 12362, '15': 11391, '16': 11662, '17': 12229, '18': 13802, '19': 14470, '20': 13768, '21': 12244, '22': 9899, '23': 7065}\n"
     ]
    },
    {
     "data": {
      "text/plain": [
       "185950"
      ]
     },
     "execution_count": 309,
     "metadata": {},
     "output_type": "execute_result"
    }
   ],
   "source": [
    "hours_and_qty = {\"00\": 0, \"01\" : 0, \"02\" : 0, \"03\" : 0, \"04\": 0, \"05\" : 0, \"06\" : 0, \"07\" : 0, \"08\": 0,\n",
    "                \"09\" : 0, \"10\" : 0, \"11\" : 0, \"12\" : 0, \"13\" : 0, \"14\" : 0, \"15\" : 0, \"16\": 0,\n",
    "                \"17\" : 0, \"18\" :0, \"19\": 0, \"20\" : 0, \"21\" : 0, \"22\" : 0, \"23\" : 0}                    \n",
    "order_hours = []     # Creo una lista vacía a la cual le voy a ingresar los slices [9:11] de todas las keys [\"Order Date\"] en sales_date\n",
    "quantity_list4 = []\n",
    "\n",
    "\n",
    "for i in range(len(sales_data_formated[0:])):  # i es el rango de diccionarios del primero al último\n",
    "        try:\n",
    "            hours = (sales_data_formated[i]['Order Date'][9:11])\n",
    "            order_hours.append(hours)\n",
    "            quantity = (sales_data_formated[i]['Quantity Ordered'])\n",
    "            quantity_list4.append(quantity)\n",
    "            hours_and_qty[hours] += quantity\n",
    "        except TypeError:\n",
    "            continue\n",
    "        except ValueError:\n",
    "            continue\n",
    "\n",
    "print(hours_and_qty.keys()) \n",
    "print(i)        \n",
    "print(hours_and_qty)\n",
    "len(order_hours )"
   ]
  },
  {
   "cell_type": "code",
   "execution_count": 310,
   "id": "42edf126-b4b8-4404-a165-828e8d4bf74a",
   "metadata": {},
   "outputs": [
    {
     "name": "stdout",
     "output_type": "stream",
     "text": [
      "19\n",
      "19\n",
      "{'00': 4428, '01': 2619, '02': 1398, '03': 928, '04': 937, '05': 1493, '06': 2810, '07': 4556, '08': 7002, '09': 9816, '10': 12308, '11': 14005, '12': 14202, '13': 13685, '14': 12362, '15': 11391, '16': 11662, '17': 12229, '18': 13802, '20': 13768, '21': 12244, '22': 9899, '23': 7065}\n",
      "12\n"
     ]
    }
   ],
   "source": [
    "print(max(hours_and_qty, key = hours_and_qty.get)) # investigando en una web que se llama pythonguides descubrí que para obtener el value más alto de un diccionario necesito usar la funcion get\n",
    "\n",
    "most_sales_hour = max(hours_and_qty, key = hours_and_qty.get)\n",
    "\n",
    "print(most_sales_hour) \n",
    "hours_and_qty_copy = hours_and_qty.copy()  # hago una copia del diccionario hours_and_qty y voy a eliminarle el ley key con el value más alto \n",
    "\n",
    "hours_and_qty_copy.pop(most_sales_hour) #\n",
    "\n",
    "second_most_sales_hr = max(hours_and_qty_copy, key = hours_and_qty_copy.get)\n",
    "\n",
    "print(hours_and_qty_copy)\n",
    "print(second_most_sales_hr)"
   ]
  },
  {
   "cell_type": "code",
   "execution_count": 311,
   "id": "878b7ff1-c352-4eca-ab96-fcb87b12358f",
   "metadata": {},
   "outputs": [
    {
     "name": "stdout",
     "output_type": "stream",
     "text": [
      "6) ¿En qué horas del día se deberían publicar anuncios promocionales para maximizar las ventas?:\n",
      " Las horas del día en las que más ventas se registran son: 19hs y 12hs\n"
     ]
    }
   ],
   "source": [
    "print(\"6) ¿En qué horas del día se deberían publicar anuncios promocionales para maximizar las ventas?:\")\n",
    "print(f\" Las horas del día en las que más ventas se registran son: {most_sales_hour}hs y {second_most_sales_hr}hs\")"
   ]
  },
  {
   "cell_type": "markdown",
   "id": "80af09de-5127-4d05-af12-717b72da09ab",
   "metadata": {
    "id": "80af09de-5127-4d05-af12-717b72da09ab"
   },
   "source": [
    "**7)** Determinar productos que se venden juntos y DE A DOS.  \n",
    "*Se espera*: `Los siguientes productos se venden juntos y de a dos: {x}-{y}, {yy}-{zz} ...`  \n",
    "**OBS**: Para una misma *orden* se pueden regitrar varios productos."
   ]
  },
  {
   "cell_type": "code",
   "execution_count": null,
   "id": "b2b1c6c9-5ce4-4285-bd55-675f47f930f9",
   "metadata": {
    "id": "b2b1c6c9-5ce4-4285-bd55-675f47f930f9"
   },
   "outputs": [],
   "source": []
  },
  {
   "cell_type": "markdown",
   "id": "b0ca1fe8-0635-43f8-af2b-cc93f65a0de9",
   "metadata": {
    "id": "b0ca1fe8-0635-43f8-af2b-cc93f65a0de9"
   },
   "source": [
    "**8)** ¿Cuál es el producto más vendido?\n",
    "*Se espera*: `El producto más vendido es {x}`"
   ]
  },
  {
   "cell_type": "code",
   "execution_count": 312,
   "id": "95a83318-dd52-4db7-9c66-e079a59f5b57",
   "metadata": {
    "id": "95a83318-dd52-4db7-9c66-e079a59f5b57"
   },
   "outputs": [
    {
     "name": "stdout",
     "output_type": "stream",
     "text": [
      "dict_keys(['USB-C Charging Cable', 'Macbook Pro Laptop', 'ThinkPad Laptop', '27in FHD Monitor', 'Bose SoundSport Headphones', 'Apple Airpods Headphones', 'Lightning Charging Cable', 'Wired Headphones', 'Flatscreen TV', 'AA Batteries (4-pack)', 'AAA Batteries (4-pack)', '34in Ultrawide Monitor', 'iPhone', 'Google Phone', '27in 4K Gaming Monitor', '20in Monitor', 'LG Dryer', 'Vareebadd Phone', 'LG Washing Machine'])\n",
      "185949\n",
      "{'USB-C Charging Cable': 23975, 'Macbook Pro Laptop': 4728, 'ThinkPad Laptop': 4130, '27in FHD Monitor': 7550, 'Bose SoundSport Headphones': 13457, 'Apple Airpods Headphones': 15661, 'Lightning Charging Cable': 23217, 'Wired Headphones': 20557, 'Flatscreen TV': 4819, 'AA Batteries (4-pack)': 27635, 'AAA Batteries (4-pack)': 31017, '34in Ultrawide Monitor': 6199, 'iPhone': 6849, 'Google Phone': 5532, '27in 4K Gaming Monitor': 6244, '20in Monitor': 4129, 'LG Dryer': 646, 'Vareebadd Phone': 2068, 'LG Washing Machine': 666}\n"
     ]
    }
   ],
   "source": [
    "prduct_and_qty = {'USB-C Charging Cable' : 0, 'Macbook Pro Laptop': 0, 'ThinkPad Laptop': 0, '27in FHD Monitor': 0,\n",
    "                'Bose SoundSport Headphones' :0 , 'Apple Airpods Headphones': 0, 'Lightning Charging Cable' :0, 'Wired Headphones' :0,\n",
    "                'Flatscreen TV': 0, 'AA Batteries (4-pack)':0, 'AAA Batteries (4-pack)':0, '34in Ultrawide Monitor': 0, 'iPhone': 0,\n",
    "                'Google Phone': 0, '27in 4K Gaming Monitor': 0, '20in Monitor':0 , 'LG Dryer':0 , 'Vareebadd Phone':0 , 'LG Washing Machine': 0}     \n",
    "product_list= []     \n",
    "quantity_list5 = []\n",
    "\n",
    "\n",
    "for i in range(len(sales_data_formated[0:])):  # i es el rango de diccionarios del primero al último\n",
    "        try:\n",
    "            product = (sales_data_formated[i]['Product'])\n",
    "            product_list.append(months)\n",
    "            quantity5 = (sales_data_formated[i]['Quantity Ordered'])\n",
    "            quantity_list5.append(quantity)\n",
    "            prduct_and_qty[product] += quantity5\n",
    "        except TypeError:\n",
    "            continue\n",
    "        except ValueError:\n",
    "            continue\n",
    "\n",
    "print(prduct_and_qty.keys()) # con la información de este\n",
    "print(i)        \n",
    "print(prduct_and_qty)"
   ]
  },
  {
   "cell_type": "code",
   "execution_count": 313,
   "id": "6edca363-01b6-4761-8296-7126cac9c237",
   "metadata": {},
   "outputs": [
    {
     "name": "stdout",
     "output_type": "stream",
     "text": [
      "AAA Batteries (4-pack)\n"
     ]
    }
   ],
   "source": [
    "most_sold_product = max(prduct_and_qty, key = prduct_and_qty.get)\n",
    "print(most_sold_product)"
   ]
  },
  {
   "cell_type": "code",
   "execution_count": 314,
   "id": "c34d6777-5919-4862-abd8-c1732849d2d8",
   "metadata": {},
   "outputs": [
    {
     "name": "stdout",
     "output_type": "stream",
     "text": [
      "8) ¿Cuál es el producto más vendido?\n",
      "El producto más vendido es AAA Batteries (4-pack)\n"
     ]
    }
   ],
   "source": [
    "print(\"8) ¿Cuál es el producto más vendido?\")\n",
    "print(f\"El producto más vendido es {most_sold_product}\")"
   ]
  },
  {
   "cell_type": "markdown",
   "id": "68b4e603-0b45-40df-8ae1-cf999dcd3cdc",
   "metadata": {
    "id": "68b4e603-0b45-40df-8ae1-cf999dcd3cdc"
   },
   "source": [
    "**9)** ¿Cuál es la relación entre el precio del producto más vendido y el del menos vendido?\n",
    "*Se espera:* `El precio del producto más vendido es {n} veces mayor/menor que el producto menos vendido`"
   ]
  },
  {
   "cell_type": "code",
   "execution_count": 315,
   "id": "644db79a-3fbf-4802-b332-80a3b29f88f3",
   "metadata": {
    "id": "644db79a-3fbf-4802-b332-80a3b29f88f3"
   },
   "outputs": [
    {
     "data": {
      "text/plain": [
       "'LG Dryer'"
      ]
     },
     "execution_count": 315,
     "metadata": {},
     "output_type": "execute_result"
    }
   ],
   "source": [
    "min(prduct_and_qty, key = prduct_and_qty.get)"
   ]
  },
  {
   "cell_type": "code",
   "execution_count": 316,
   "id": "30008164-1ae5-4dc0-881b-944ce1725053",
   "metadata": {},
   "outputs": [
    {
     "name": "stdout",
     "output_type": "stream",
     "text": [
      " Precio LG Dryer: 600.0\n",
      " Precio AAA Batteries (4pack): 2.99\n"
     ]
    }
   ],
   "source": [
    "# Determino lo que vale el producto más vendido y el menos vendido buscándolos en un diccionario en el que estén y su quantity sea 1\n",
    "for i in range(len(sales_data_formated[0:])):  # i es el rango de diccionarios del primero al último\n",
    "        try:\n",
    "            if (sales_data_formated[i]['Product']) == \"LG Dryer\" and (sales_data_formated[i]['Quantity Ordered']) == 1:\n",
    "                LG_dryer_price = sales_data_formated[i]['Price Each']\n",
    "               \n",
    "        except TypeError:\n",
    "            continue\n",
    "        except ValueError:\n",
    "            continue\n",
    "            \n",
    "for i in range(len(sales_data_formated[0:])):  # i es el rango de diccionarios del primero al último\n",
    "        try:\n",
    "            if (sales_data_formated[i]['Product']) == \"AAA Batteries (4-pack)\" and (sales_data_formated[i]['Quantity Ordered']) == 1:\n",
    "                AAA_Batteries_4pack_price = sales_data_formated[i]['Price Each']\n",
    "               \n",
    "        except TypeError:\n",
    "            continue\n",
    "        except ValueError:\n",
    "            continue            \n",
    "print(F\" Precio LG Dryer: {LG_dryer_price}\")\n",
    "print(F\" Precio AAA Batteries (4pack): {AAA_Batteries_4pack_price}\")"
   ]
  },
  {
   "cell_type": "code",
   "execution_count": 317,
   "id": "fee16868-dcd9-474f-a124-4e48f2679884",
   "metadata": {},
   "outputs": [
    {
     "name": "stdout",
     "output_type": "stream",
     "text": [
      " 9) ¿Cuál es la relación entre el precio del producto más vendido y el del menos vendido?:\n",
      " El precio del producto más vendido es 200.67 veces menor que el producto menos vendido\n"
     ]
    }
   ],
   "source": [
    "print(f\" 9) ¿Cuál es la relación entre el precio del producto más vendido y el del menos vendido?:\") \n",
    "print(f\" El precio del producto más vendido es {round(LG_dryer_price/AAA_Batteries_4pack_price, 2)} veces menor que el producto menos vendido\")"
   ]
  },
  {
   "cell_type": "markdown",
   "id": "acb2623e-cad1-46ed-a8ea-3ec0e650901e",
   "metadata": {
    "id": "acb2623e-cad1-46ed-a8ea-3ec0e650901e"
   },
   "source": [
    "**10)** ¿Cuál es la órden con mayor cantidad de productos?\n",
    "*Se espera*: `La órden con mayor cantidad de productos es la número {x}, con {y} productos en total`"
   ]
  },
  {
   "cell_type": "code",
   "execution_count": 341,
   "id": "25df688f-02b5-4ba5-995c-8861aea7c43e",
   "metadata": {
    "id": "25df688f-02b5-4ba5-995c-8861aea7c43e"
   },
   "outputs": [
    {
     "name": "stdout",
     "output_type": "stream",
     "text": [
      "185949\n"
     ]
    }
   ],
   "source": [
    "id_and_qty = {}      # genero un diccionario vacío donde las keys van a ser todas las Order ID de sales_data_formated y seteo todos sus values a cero\n",
    "id_list = []     \n",
    "quantity_list = []\n",
    "\n",
    "for i in range(len(sales_data_formated[0:])):\n",
    "    k = (sales_data_formated[i]['Order ID'])\n",
    "    id_list.append(k)\n",
    "    id_and_qty[k] = 0 \n",
    "    \n",
    "\n",
    "\n",
    "print(i)        \n"
   ]
  },
  {
   "cell_type": "code",
   "execution_count": null,
   "id": "d0b2a24b-4ff1-4a10-b765-134f63c2bf45",
   "metadata": {},
   "outputs": [],
   "source": []
  },
  {
   "cell_type": "code",
   "execution_count": 347,
   "id": "ee5b7dbb-3a4f-45ba-a2cc-9b164facad9b",
   "metadata": {},
   "outputs": [],
   "source": [
    "for i in range(len(sales_data_formated[0:])):  # i es el rango de diccionarios del primero al último\n",
    "        try:\n",
    "            ids = (sales_data_formated[i]['Order ID'])\n",
    "            quantity = (sales_data_formated[i]['Quantity Ordered'])\n",
    "            quantity_list.append(quantity)\n",
    "            id_and_qty[ids] += quantity\n",
    "        except TypeError:\n",
    "            continue\n",
    "        except ValueError:\n",
    "            continue"
   ]
  },
  {
   "cell_type": "code",
   "execution_count": 361,
   "id": "63cf996e-1eb9-49fe-acdd-beeadc8fa357",
   "metadata": {},
   "outputs": [
    {
     "data": {
      "text/plain": [
       "9"
      ]
     },
     "execution_count": 361,
     "metadata": {},
     "output_type": "execute_result"
    }
   ],
   "source": [
    "id_and_qty[\"211097\"]"
   ]
  },
  {
   "cell_type": "code",
   "execution_count": 359,
   "id": "27040be7-7dfd-4756-8ec3-db1f9288e8f7",
   "metadata": {},
   "outputs": [
    {
     "name": "stdout",
     "output_type": "stream",
     "text": [
      "211097\n"
     ]
    }
   ],
   "source": [
    "order_most_product = max(id_and_qty, key = id_and_qty.get)\n",
    "print(order_most_product)"
   ]
  },
  {
   "cell_type": "code",
   "execution_count": 365,
   "id": "2ba2f893-1747-4b25-b2c6-5253c22ea4e7",
   "metadata": {},
   "outputs": [
    {
     "name": "stdout",
     "output_type": "stream",
     "text": [
      " 10) ¿Cuál es la órden con mayor cantidad de productos?\n",
      " La órden con mayor cantidad de productos es la número 211097, con 9 productos en total\n"
     ]
    }
   ],
   "source": [
    "print(f\" 10) ¿Cuál es la órden con mayor cantidad de productos?\")\n",
    "print(f\" La órden con mayor cantidad de productos es la número {order_most_product}, con {id_and_qty['211097']} productos en total\")"
   ]
  },
  {
   "cell_type": "code",
   "execution_count": null,
   "id": "ad03a6a8-b6e4-42a7-85d5-b1a2d1e128c5",
   "metadata": {},
   "outputs": [],
   "source": []
  }
 ],
 "metadata": {
  "colab": {
   "name": "5.1.analisis-de-ventas.ipynb",
   "provenance": []
  },
  "kernelspec": {
   "display_name": "Python 3 (ipykernel)",
   "language": "python",
   "name": "python3"
  },
  "language_info": {
   "codemirror_mode": {
    "name": "ipython",
    "version": 3
   },
   "file_extension": ".py",
   "mimetype": "text/x-python",
   "name": "python",
   "nbconvert_exporter": "python",
   "pygments_lexer": "ipython3",
   "version": "3.9.7"
  }
 },
 "nbformat": 4,
 "nbformat_minor": 5
}
