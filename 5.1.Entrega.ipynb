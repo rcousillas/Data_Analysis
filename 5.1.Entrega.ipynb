{
 "cells": [
  {
   "cell_type": "markdown",
   "id": "41154291-76ee-416d-8106-9d47c52b272f",
   "metadata": {
    "id": "41154291-76ee-416d-8106-9d47c52b272f"
   },
   "source": [
    "# Análisis de ventas\n",
    "\n",
    "Se facilita una lista de `dict` con datos reales de ventas con las siguientes keys:\n",
    "\n",
    "* 'Order ID'\n",
    "* 'Product'\n",
    "* 'Quantity Ordered'\n",
    "* 'Price Each\n",
    "* 'Order Date'\n",
    "* 'Purchase Address'\n",
    "\n",
    "y values de tipo `str` en todos los casos:"
   ]
  },
  {
   "cell_type": "code",
   "execution_count": 1,
   "id": "b5d05795-bd04-427e-b8f4-004b9b52f160",
   "metadata": {
    "colab": {
     "base_uri": "https://localhost:8080/",
     "height": 217
    },
    "executionInfo": {
     "elapsed": 326,
     "status": "error",
     "timestamp": 1649220122908,
     "user": {
      "displayName": "Bibiana Rivadeneira",
      "userId": "13403832355809551391"
     },
     "user_tz": 180
    },
    "id": "b5d05795-bd04-427e-b8f4-004b9b52f160",
    "outputId": "6388b6b0-328d-4037-e9d2-1fd1c6efd9cd"
   },
   "outputs": [],
   "source": [
    "import pickle\n",
    "\n",
    "with open('sales_data.pickle', 'rb') as handle:\n",
    "    sales_data = pickle.load(handle)"
   ]
  },
  {
   "cell_type": "code",
   "execution_count": 2,
   "id": "85741068-6422-47f5-9361-f8027efe0432",
   "metadata": {},
   "outputs": [
    {
     "data": {
      "text/plain": [
       "186850"
      ]
     },
     "execution_count": 2,
     "metadata": {},
     "output_type": "execute_result"
    }
   ],
   "source": [
    "len(sales_data) # determino el largo del la base de datos sales datas y compruebo que tiene 186.850 diccionarios (del 0 a 186.849)"
   ]
  },
  {
   "cell_type": "code",
   "execution_count": 3,
   "id": "df83f9b6-be90-4811-9cbf-6e48169eae11",
   "metadata": {},
   "outputs": [
    {
     "data": {
      "text/plain": [
       "[{'Order ID': '209921',\n",
       "  'Product': 'USB-C Charging Cable',\n",
       "  'Quantity Ordered': '1',\n",
       "  'Price Each': '11.95',\n",
       "  'Order Date': '06/23/19 19:34',\n",
       "  'Purchase Address': '950 Walnut St, Portland, ME 04101'},\n",
       " {'Order ID': '209922',\n",
       "  'Product': 'Macbook Pro Laptop',\n",
       "  'Quantity Ordered': '1',\n",
       "  'Price Each': '1700.0',\n",
       "  'Order Date': '06/30/19 10:05',\n",
       "  'Purchase Address': '80 4th St, San Francisco, CA 94016'},\n",
       " {'Order ID': '209923',\n",
       "  'Product': 'ThinkPad Laptop',\n",
       "  'Quantity Ordered': '1',\n",
       "  'Price Each': '999.99',\n",
       "  'Order Date': '06/24/19 20:18',\n",
       "  'Purchase Address': '402 Jackson St, Los Angeles, CA 90001'},\n",
       " {'Order ID': '209924',\n",
       "  'Product': '27in FHD Monitor',\n",
       "  'Quantity Ordered': '1',\n",
       "  'Price Each': '149.99',\n",
       "  'Order Date': '06/05/19 10:21',\n",
       "  'Purchase Address': '560 10th St, Seattle, WA 98101'}]"
      ]
     },
     "execution_count": 3,
     "metadata": {},
     "output_type": "execute_result"
    }
   ],
   "source": [
    "sales_data[0:4]  # tomo un slice de los primeros tres diccionaros como muestra y referencia visual"
   ]
  },
  {
   "cell_type": "code",
   "execution_count": 4,
   "id": "d898f93e-48de-4c80-8f43-8473defcb812",
   "metadata": {},
   "outputs": [
    {
     "name": "stdout",
     "output_type": "stream",
     "text": [
      "186849\n"
     ]
    }
   ],
   "source": [
    "# Creo una estructura de datos igual a sales_data pero en esta lista cada value de cada key va a tener el tipo de datos que necesito\n",
    "sales_data_formated = []\n",
    "\n",
    "for i in range(len(sales_data[0:])):  # i es el rango de diccionarios del primero al último\n",
    "    try:\n",
    "        new_dict = {}  #  definí el diccionario dentro de la estructura de control de flujo porque por fuera me fuera de la misma da error\n",
    "        new_dict[\"Order ID\"] = str(sales_data[i][\"Order ID\"])\n",
    "        new_dict[\"Product\"] = str(sales_data[i][\"Product\"])\n",
    "        new_dict[\"Quantity Ordered\"] = int(sales_data[i][\"Quantity Ordered\"])\n",
    "        new_dict[\"Price Each\"] = float(sales_data[i][\"Price Each\"])\n",
    "        new_dict[\"Order Date\"] = str(sales_data[i][\"Order Date\"])\n",
    "        new_dict[\"Purchase Address\"] = (sales_data[i][\"Purchase Address\"]).split(\",\")[1]\n",
    "        sales_data_formated.append(new_dict)\n",
    "    except AttributeError:\n",
    "        continue\n",
    "    except ValueError:\n",
    "        continue\n",
    "print(i)    \n",
    "    \n",
    "    \n",
    "    \n",
    "      "
   ]
  },
  {
   "cell_type": "code",
   "execution_count": 5,
   "id": "1abe1922-d36f-4cd1-9727-282cd91430b1",
   "metadata": {},
   "outputs": [
    {
     "data": {
      "text/plain": [
       "185950"
      ]
     },
     "execution_count": 5,
     "metadata": {},
     "output_type": "execute_result"
    }
   ],
   "source": [
    "len(sales_data_formated)  # compruebo que la cantidad de objetos en sales_data_copy es igual a sales_data_copy"
   ]
  },
  {
   "cell_type": "code",
   "execution_count": 55,
   "id": "19febff3-a04d-45fd-8827-662af5a60b42",
   "metadata": {},
   "outputs": [
    {
     "data": {
      "text/plain": [
       "{'Order ID': '209923',\n",
       " 'Product': 'ThinkPad Laptop',\n",
       " 'Quantity Ordered': 1,\n",
       " 'Price Each': 999.99,\n",
       " 'Order Date': '06/24/19 20:18',\n",
       " 'Purchase Address': ' Los Angeles'}"
      ]
     },
     "execution_count": 55,
     "metadata": {},
     "output_type": "execute_result"
    }
   ],
   "source": [
    "sales_data_formated[2]  # Cómo se ve los diccionarios en esta nueva lista de diccionarios con cada key formateada"
   ]
  },
  {
   "cell_type": "code",
   "execution_count": 7,
   "id": "17619a07-fd06-49cf-90f8-6dfa7ada9067",
   "metadata": {},
   "outputs": [
    {
     "name": "stdout",
     "output_type": "stream",
     "text": [
      "{'Order ID': 'Order ID', 'Product': 'Product', 'Quantity Ordered': 'Quantity Ordered', 'Price Each': 'Price Each', 'Order Date': 'Order Date', 'Purchase Address': 'Purchase Address'}\n",
      "{'Order ID': nan, 'Product': nan, 'Quantity Ordered': nan, 'Price Each': nan, 'Order Date': nan, 'Purchase Address': nan}\n"
     ]
    }
   ],
   "source": [
    "\"Diccionario Nº 158\"\n",
    "print(sales_data[158]) # Surge de la primera iteración que los diccionarios que ocupan la posición 158 y 339 tienen values errores\n",
    "\n",
    "\"Diccionario Nº 339\"\n",
    "print(sales_data[339]) # Debido a esto cada vez que iteremos aparecen los erorres TypeError y ValueError los cuáles se anadirán a las excepciones"
   ]
  },
  {
   "cell_type": "code",
   "execution_count": null,
   "id": "04a40655-01a1-4668-8562-a579e7d5ca27",
   "metadata": {
    "id": "bd39a5b1-28eb-471e-83a9-ab5f55b784bb",
    "outputId": "47bf3a43-cdd8-422a-fee6-2333d50ee821"
   },
   "outputs": [],
   "source": []
  },
  {
   "cell_type": "markdown",
   "id": "bd037fba-8a1e-4e91-a6fa-afd271f45373",
   "metadata": {
    "id": "bd775d37-d9b6-457f-acf3-6cf561dbc27f"
   },
   "source": [
    "Responder los siguientes interrogantes de interés, para lo que se requiere:\n",
    "\n",
    "* Inspeccionar los datos\n",
    "* Formatearlos adecuadamente\n",
    "* Elegir y confeccionar nuevas estructuras de datos"
   ]
  },
  {
   "cell_type": "code",
   "execution_count": 8,
   "id": "9d7c9580-c873-4e53-aa64-5515982f9ee2",
   "metadata": {
    "id": "9d7c9580-c873-4e53-aa64-5515982f9ee2"
   },
   "outputs": [
    {
     "data": {
      "text/plain": [
       "'06'"
      ]
     },
     "execution_count": 8,
     "metadata": {},
     "output_type": "execute_result"
    }
   ],
   "source": [
    "sales_data[0]['Order Date'][0:2]  # Determino por la forma en la que están estructurados los datos que el slice [0:2] del value de la key \n",
    "                                  # \"Order date de cada diccionario va a arrojarme los meses como estrings con un cero adelante. Ejemplo enero = \"01\" \n",
    "                                            "
   ]
  },
  {
   "cell_type": "code",
   "execution_count": 9,
   "id": "a38b3798-3527-4fb0-9740-8c1a8cea154a",
   "metadata": {},
   "outputs": [
    {
     "data": {
      "text/plain": [
       "{'Order ID': '209921',\n",
       " 'Product': 'USB-C Charging Cable',\n",
       " 'Quantity Ordered': '1',\n",
       " 'Price Each': '11.95',\n",
       " 'Order Date': '06/23/19 19:34',\n",
       " 'Purchase Address': '950 Walnut St, Portland, ME 04101'}"
      ]
     },
     "execution_count": 9,
     "metadata": {},
     "output_type": "execute_result"
    }
   ],
   "source": [
    "sales_data[0]"
   ]
  },
  {
   "cell_type": "code",
   "execution_count": 10,
   "id": "5654b9b7-5428-4539-849f-52879c3e4c88",
   "metadata": {},
   "outputs": [],
   "source": [
    "order_months = {}   # Creo una lista vacía a la cual le voy a ingresar los slices [0:2] de todas las keys [\"Order Date\"] en sales_date\n",
    "    "
   ]
  },
  {
   "cell_type": "code",
   "execution_count": 11,
   "id": "7922789e-cc29-4be1-b180-9e0041df92d5",
   "metadata": {},
   "outputs": [
    {
     "name": "stdout",
     "output_type": "stream",
     "text": [
      "06\n",
      "06\n",
      "06\n",
      "06\n"
     ]
    }
   ],
   "source": [
    "for dict_sale in sales_data[0:4]:\n",
    "    print(dict_sale['Order Date'][0:2])  # esta era una forma de obtener los values de order date de todos los diccionario"
   ]
  },
  {
   "cell_type": "code",
   "execution_count": 12,
   "id": "737bce73-9194-4a54-bcfc-dec97d79214d",
   "metadata": {},
   "outputs": [],
   "source": [
    "month_and_qty = {}\n",
    "order_months = []\n",
    "quantity_list = []\n"
   ]
  },
  {
   "cell_type": "code",
   "execution_count": 40,
   "id": "a81a2e12-b19e-4476-8ca0-eca87028eaae",
   "metadata": {},
   "outputs": [
    {
     "name": "stdout",
     "output_type": "stream",
     "text": [
      "dict_keys(['01', '02', '03', '04', '05', '06', '07', '08', '09', '10', '11', '12'])\n",
      "185949\n",
      "{'01': 10903, '02': 13449, '03': 17005, '04': 20558, '05': 18667, '06': 15253, '07': 16072, '08': 13448, '09': 13109, '10': 22703, '11': 19798, '12': 28114}\n"
     ]
    }
   ],
   "source": [
    "month_and_qty = {}\n",
    "order_months = []\n",
    "quantity_list = []\n",
    "month_and_qty[\"01\"] = 0\n",
    "month_and_qty[\"02\"] = 0\n",
    "month_and_qty[\"03\"] = 0\n",
    "month_and_qty[\"04\"] = 0\n",
    "month_and_qty[\"05\"] = 0\n",
    "month_and_qty[\"06\"] = 0\n",
    "month_and_qty[\"07\"] = 0\n",
    "month_and_qty[\"08\"] = 0\n",
    "month_and_qty[\"09\"] = 0\n",
    "month_and_qty[\"10\"] = 0\n",
    "month_and_qty[\"11\"] = 0\n",
    "month_and_qty[\"12\"] = 0\n",
    "\n",
    "\n",
    "for i in range(len(sales_data_formated[0:])):  # i es el rango de diccionarios del primero al último\n",
    "        try:\n",
    "            \n",
    "            months = (sales_data_formated[i]['Order Date'][0:2])\n",
    "            order_months.append(months)\n",
    "            quantity = (sales_data_formated[i]['Quantity Ordered'])\n",
    "            quantity_list.append(quantity)\n",
    "            month_and_qty[months] += quantity\n",
    "        except TypeError:\n",
    "            continue\n",
    "        except ValueError:\n",
    "            continue\n",
    "\n",
    "print(month_and_qty.keys()) \n",
    "print(i)        \n",
    "print(month_and_qty)"
   ]
  },
  {
   "cell_type": "code",
   "execution_count": 14,
   "id": "a630c402-c120-413c-a5ab-77eca085f33b",
   "metadata": {},
   "outputs": [
    {
     "data": {
      "text/plain": [
       "1"
      ]
     },
     "execution_count": 14,
     "metadata": {},
     "output_type": "execute_result"
    }
   ],
   "source": [
    "sales_data_formated[0]['Quantity Ordered']"
   ]
  },
  {
   "cell_type": "code",
   "execution_count": 15,
   "id": "dee8695b-bb5d-412d-9682-e8cb319e4b7f",
   "metadata": {},
   "outputs": [
    {
     "name": "stdout",
     "output_type": "stream",
     "text": [
      "12\n"
     ]
    }
   ],
   "source": [
    "most_sales_month = max(month_and_qty) # determino el mes con la mayor cantidad de compras, este caso el value más alto del diccionario\n",
    "print(most_sales_month)"
   ]
  },
  {
   "cell_type": "code",
   "execution_count": 16,
   "id": "2d19afc8-457c-47a3-9708-d556d6ff26c1",
   "metadata": {},
   "outputs": [
    {
     "name": "stdout",
     "output_type": "stream",
     "text": [
      "El mes de más compras es: 12\n",
      "Cantidad de orders por mes:\n",
      "Enero: 9709\n",
      "Febrero: 11975\n",
      "Marzo: 15153\n",
      "Abril: 18279\n",
      "Mayo: 16566\n",
      "Junio: 13554\n",
      "Julio: 14293\n",
      "Agosto: 11961\n",
      "Setiembre: 11621\n",
      "Octubre: 20282\n",
      "Noviembre: 17573\n",
      "Diciembre: 24984\n"
     ]
    }
   ],
   "source": [
    "print(f\"El mes de más compras es: {max(set(order_months), key = order_months.count)}\") \n",
    "\n",
    "# conteo de las compras por mes considerando una comprar por order Id con independencia de la cantidad de productos\n",
    "\n",
    "print(\"Cantidad de orders por mes:\")\n",
    "print(f'Enero: {order_months.count(\"01\")}')\n",
    "print(f'Febrero: {order_months.count(\"02\")}')\n",
    "print(f'Marzo: {order_months.count(\"03\")}')\n",
    "print(f'Abril: {order_months.count(\"04\")}')\n",
    "print(f'Mayo: {order_months.count(\"05\")}')\n",
    "print(f'Junio: {order_months.count(\"06\")}')\n",
    "print(f'Julio: {order_months.count(\"07\")}')\n",
    "print(f'Agosto: {order_months.count(\"08\")}')\n",
    "print(f'Setiembre: {order_months.count(\"09\")}')\n",
    "print(f'Octubre: {order_months.count(\"10\")}')\n",
    "print(f'Noviembre: {order_months.count(\"11\")}')\n",
    "print(f'Diciembre: {order_months.count(\"12\")}')"
   ]
  },
  {
   "cell_type": "code",
   "execution_count": 17,
   "id": "cd31359c-5c20-4e7f-b912-1e632649df4c",
   "metadata": {},
   "outputs": [],
   "source": [
    "month = {\"01\" : \"Enero\",\n",
    "          \"02\" : \"Febrero\",\n",
    "          \"03\" : \"Marzo\",\n",
    "          \"04\" : \"Abril\",\n",
    "          \"05\" : \"Mayo\",\n",
    "          \"06\" : \"Junio\",\n",
    "          \"07\" : \"Julio\",\n",
    "          \"08\" : \"Agosto\",\n",
    "          \"09\" : \"Setiembre\",\n",
    "          \"10\" : \"Octubre\",\n",
    "          \"11\" : \"Noviembre\",\n",
    "          \"12\" : \"Diciembre\"}"
   ]
  },
  {
   "cell_type": "markdown",
   "id": "65b001ce-12b7-4b6a-b5e0-f067307d5c3a",
   "metadata": {
    "id": "65b001ce-12b7-4b6a-b5e0-f067307d5c3a"
   },
   "source": [
    "**1)** ¿Cuál es el mes que reporta **la mayor cantidad de productos**? \n",
    "\n",
    "*Se espera*: `El mes de mayor venta es: {Enero/Febrero/Marzo/Abril...}` *(nótese que se debe printear el nombre del mes)*"
   ]
  },
  {
   "cell_type": "code",
   "execution_count": 18,
   "id": "a8412f91-5b55-45e5-99e5-b22d7115340f",
   "metadata": {},
   "outputs": [
    {
     "ename": "SyntaxError",
     "evalue": "EOL while scanning string literal (Temp/ipykernel_11436/377783586.py, line 1)",
     "output_type": "error",
     "traceback": [
      "\u001b[1;36m  File \u001b[1;32m\"C:\\Users\\admin\\AppData\\Local\\Temp/ipykernel_11436/377783586.py\"\u001b[1;36m, line \u001b[1;32m1\u001b[0m\n\u001b[1;33m    print(f\"El mes de mayor venta es\u001b[0m\n\u001b[1;37m                                     ^\u001b[0m\n\u001b[1;31mSyntaxError\u001b[0m\u001b[1;31m:\u001b[0m EOL while scanning string literal\n"
     ]
    }
   ],
   "source": [
    "print(f\"El mes de mayor venta es "
   ]
  },
  {
   "cell_type": "code",
   "execution_count": null,
   "id": "3ec4c0a0-4aec-4756-bf25-0a4e79242293",
   "metadata": {
    "id": "3ec4c0a0-4aec-4756-bf25-0a4e79242293"
   },
   "outputs": [],
   "source": [
    "print(f'El mes de mayor venta es: {month[most_sales_month]}')"
   ]
  },
  {
   "cell_type": "markdown",
   "id": "111cd58e-7c14-437c-9a58-d269504d3dc6",
   "metadata": {
    "id": "111cd58e-7c14-437c-9a58-d269504d3dc6"
   },
   "source": [
    "**2)** ¿Qué ganancia reporta dicho mes?  \n",
    "*Se espera*: `En el mes de {Enero/Febrero/Marzo/Abril...} se reporta una ganancia total de USD{xxxx.xx}` *(nótese que el monto debe incluir DOS decimales)*"
   ]
  },
  {
   "cell_type": "code",
   "execution_count": 84,
   "id": "df5ce497-17a1-435e-ae14-8eefb72faf9c",
   "metadata": {},
   "outputs": [
    {
     "name": "stdout",
     "output_type": "stream",
     "text": [
      "0\n",
      "1\n",
      "2\n",
      "3\n",
      "4\n",
      "5\n",
      "6\n",
      "7\n",
      "8\n",
      "9\n",
      "dict_keys(['01', '02', '03', '04', '05', '06', '07', '08', '09', '10', '11', '12'])\n",
      "dict_values([0, 0, 0, 0, 0, 3438.8499999999995, 0, 0, 0, 0, 0, 0])\n",
      "9\n",
      "{'01': 0, '02': 0, '03': 0, '04': 0, '05': 0, '06': 3438.8499999999995, '07': 0, '08': 0, '09': 0, '10': 0, '11': 0, '12': 0}\n"
     ]
    },
    {
     "ename": "NameError",
     "evalue": "name 'monthts' is not defined",
     "output_type": "error",
     "traceback": [
      "\u001b[1;31m---------------------------------------------------------------------------\u001b[0m",
      "\u001b[1;31mNameError\u001b[0m                                 Traceback (most recent call last)",
      "\u001b[1;32m~\\AppData\\Local\\Temp/ipykernel_11436/3551231172.py\u001b[0m in \u001b[0;36m<module>\u001b[1;34m\u001b[0m\n\u001b[0;32m     36\u001b[0m \u001b[0mprint\u001b[0m\u001b[1;33m(\u001b[0m\u001b[0mi\u001b[0m\u001b[1;33m)\u001b[0m\u001b[1;33m\u001b[0m\u001b[1;33m\u001b[0m\u001b[0m\n\u001b[0;32m     37\u001b[0m \u001b[0mprint\u001b[0m\u001b[1;33m(\u001b[0m\u001b[0mmonth_qty_price\u001b[0m\u001b[1;33m)\u001b[0m\u001b[1;33m\u001b[0m\u001b[1;33m\u001b[0m\u001b[0m\n\u001b[1;32m---> 38\u001b[1;33m \u001b[0mprint\u001b[0m\u001b[1;33m(\u001b[0m\u001b[0mmonth_qty_price\u001b[0m\u001b[1;33m.\u001b[0m\u001b[0mget\u001b[0m\u001b[1;33m(\u001b[0m\u001b[0mmonthts\u001b[0m\u001b[1;33m)\u001b[0m\u001b[1;33m)\u001b[0m\u001b[1;33m\u001b[0m\u001b[1;33m\u001b[0m\u001b[0m\n\u001b[0m",
      "\u001b[1;31mNameError\u001b[0m: name 'monthts' is not defined"
     ]
    }
   ],
   "source": [
    "month_qty_price = {}\n",
    "order_months2 = []\n",
    "quantity_list2 = []\n",
    "price_each_list = []\n",
    "month_qty_price[\"01\"] = 0\n",
    "month_qty_price[\"02\"] = 0\n",
    "month_qty_price[\"03\"] = 0\n",
    "month_qty_price[\"04\"] = 0\n",
    "month_qty_price[\"05\"] = 0\n",
    "month_qty_price[\"06\"] = 0\n",
    "month_qty_price[\"07\"] = 0\n",
    "month_qty_price[\"08\"] = 0\n",
    "month_qty_price[\"09\"] = 0\n",
    "month_qty_price[\"10\"] = 0\n",
    "month_qty_price[\"11\"] = 0\n",
    "month_qty_price[\"12\"] = 0\n",
    "\n",
    "\n",
    "for i in range(len(sales_data_formated[0:10])):  # i es el rango de diccionarios del primero al último\n",
    "        try:\n",
    "            months = (sales_data_formated[i]['Order Date'][0:2])\n",
    "            order_months2.append(months)\n",
    "            quantity = (sales_data_formated[i]['Quantity Ordered'])\n",
    "            quantity_list2.append(quantity)\n",
    "            price_acumulated = (sales_data_formated[i]['Quantity Ordered']) * (sales_data_formated[i]['Price Each'])\n",
    "            price_each_list.append(price_acumulated)\n",
    "            month_qty_price[months] += int(quantity) * float(price_acumulated)\n",
    "        except TypeError:\n",
    "            continue\n",
    "        except ValueError:\n",
    "            continue\n",
    "        print(i)\n",
    "\n",
    "print(month_qty_price.keys())\n",
    "print(month_qty_price.values())\n",
    "print(i)        \n",
    "print(month_qty_price)\n",
    "print(month_qty_price.get(monthts))\n"
   ]
  },
  {
   "cell_type": "code",
   "execution_count": null,
   "id": "906802e5-b32a-4274-a5db-87ca6a7644d8",
   "metadata": {},
   "outputs": [],
   "source": [
    "sales_data_formated[0:4]"
   ]
  },
  {
   "cell_type": "code",
   "execution_count": 32,
   "id": "de28bdf6-75a0-4e8e-94f4-7319af2e111a",
   "metadata": {},
   "outputs": [
    {
     "ename": "SyntaxError",
     "evalue": "invalid syntax (Temp/ipykernel_11436/2315898869.py, line 1)",
     "output_type": "error",
     "traceback": [
      "\u001b[1;36m  File \u001b[1;32m\"C:\\Users\\admin\\AppData\\Local\\Temp/ipykernel_11436/2315898869.py\"\u001b[1;36m, line \u001b[1;32m1\u001b[0m\n\u001b[1;33m    diccionario_ejemplo = {\"caca\":  ,\u001b[0m\n\u001b[1;37m                                    ^\u001b[0m\n\u001b[1;31mSyntaxError\u001b[0m\u001b[1;31m:\u001b[0m invalid syntax\n"
     ]
    }
   ],
   "source": [
    "diccionario_ejemplo = {\"caca\":  ,\n",
    "                       \"caquin\":  ,}\n",
    "                       "
   ]
  },
  {
   "cell_type": "code",
   "execution_count": null,
   "id": "dc8c2432-150b-4d83-ba90-0de45433b4bd",
   "metadata": {},
   "outputs": [],
   "source": []
  },
  {
   "cell_type": "code",
   "execution_count": null,
   "id": "4e7a2226-55cb-4c4a-90ac-c98764e75223",
   "metadata": {},
   "outputs": [],
   "source": []
  },
  {
   "cell_type": "markdown",
   "id": "f3eaeae9-19b6-4512-ba98-94f79613d3a5",
   "metadata": {},
   "source": [
    "**3)** ¿Qué porcentaje del total de las ventas representa?  \n",
    "*Se espera*: `Las ventas en el mes de {Enero/Febrero/Marzo/Abril...} representan un xx.xx% del total de las ventas` *(nótese que el monto debe incluir DOS decimales)*"
   ]
  },
  {
   "cell_type": "code",
   "execution_count": 41,
   "id": "6294a3f2-e381-479a-94a3-703282d429eb",
   "metadata": {
    "id": "6294a3f2-e381-479a-94a3-703282d429eb"
   },
   "outputs": [
    {
     "name": "stdout",
     "output_type": "stream",
     "text": [
      "1 11.95\n",
      "11.95\n",
      "2\n",
      "[999.99]\n"
     ]
    }
   ],
   "source": [
    " # establecer el total de las ventas haciendo 'Quantity Ordered' * 'Price Each' de cada diccionario\n",
    "\n",
    " # hago una pruena usando el diccionario cero    \n",
    "print((sales_data_formated[0]['Quantity Ordered']),  (sales_data_formated[0]['Price Each']))\n",
    "\n",
    "venta_prueba = (sales_data_formated[0]['Quantity Ordered']) * (sales_data_formated[0]['Price Each'])\n",
    "\n",
    "print(venta_prueba)\n",
    "\n",
    "for i in range(len(sales_data_formated[0:3])):  # i es el rango de diccionarios del primero al último\n",
    "        try:\n",
    "            total_sales = []\n",
    "            total_sales.append((sales_data_formated[i]['Quantity Ordered']) * (sales_data_formated[i]['Price Each']))\n",
    "            continue\n",
    "        except TypeError:\n",
    "            continue\n",
    "        except ValueError:\n",
    "            continue\n",
    "print(i)                                                        \n",
    "print(total_sales)\n"
   ]
  },
  {
   "cell_type": "code",
   "execution_count": 43,
   "id": "2305d1f8-0d6b-460f-9ea9-8e46661c6cb5",
   "metadata": {},
   "outputs": [
    {
     "data": {
      "text/plain": [
       "{'Order ID': '209923',\n",
       " 'Product': 'ThinkPad Laptop',\n",
       " 'Quantity Ordered': 1,\n",
       " 'Price Each': 999.99,\n",
       " 'Order Date': '06/24/19 20:18',\n",
       " 'Purchase Address': ' Los Angeles'}"
      ]
     },
     "execution_count": 43,
     "metadata": {},
     "output_type": "execute_result"
    }
   ],
   "source": [
    "sales_data_formated[2]"
   ]
  },
  {
   "cell_type": "markdown",
   "id": "a123911e-0328-4600-9a7f-0753e79bbd6d",
   "metadata": {
    "id": "a123911e-0328-4600-9a7f-0753e79bbd6d"
   },
   "source": [
    "**4)** ¿Qué ciudad reportó la mayor cantidad de ventas?  \n",
    "*Se espera*: `La ciudad con mayor cantidad de ventas es {Dallas/Los Angeles/Boston...} reporta la mayor cantidad de ventas` *(nótese que se debe especificar la ciudad y no la dirección completa)*"
   ]
  },
  {
   "cell_type": "code",
   "execution_count": 69,
   "id": "bef35c63-34ac-4113-b85b-98f218116560",
   "metadata": {
    "id": "bef35c63-34ac-4113-b85b-98f218116560"
   },
   "outputs": [
    {
     "name": "stdout",
     "output_type": "stream",
     "text": [
      "0\n",
      "1\n",
      "2\n",
      "2\n",
      "[' Portland', ' San Francisco', ' Los Angeles']\n"
     ]
    }
   ],
   "source": [
    "most_sales_city = []\n",
    "for i in range(len(sales_data_formated[0:3])):  # i es el rango de diccionarios del primero al último\n",
    "    print(i)\n",
    "    most_sales_city.append(sales_data_formated[i][\"Purchase Address\"])\n",
    "    \n",
    "        # le saco por ser muy largo print(i)\n",
    "       # le saco el print porque es muy largo print(sales_data[i]['Order Date'][0:2])\n",
    "    \n",
    "print(i)   \n",
    "print(most_sales_city)    "
   ]
  },
  {
   "cell_type": "code",
   "execution_count": null,
   "id": "3b3a2999-4715-46e5-a096-99543260ca1e",
   "metadata": {},
   "outputs": [],
   "source": []
  },
  {
   "cell_type": "code",
   "execution_count": null,
   "id": "713e2bde-8105-4d8f-84b9-f1d125227cbb",
   "metadata": {},
   "outputs": [],
   "source": []
  },
  {
   "cell_type": "markdown",
   "id": "7ff085be-3d8e-455b-a66b-c7e905f4c584",
   "metadata": {
    "id": "7ff085be-3d8e-455b-a66b-c7e905f4c584"
   },
   "source": [
    "**5)** ¿Qué porcentaje del total de las ventas representa?  \n",
    "*Se espera*: `Las ventas en {Dallas/Los Angeles/Boston...} representan un xx.xx% del total` *(nótese que se debe especificar la ciudad y no la dirección completa)*"
   ]
  },
  {
   "cell_type": "code",
   "execution_count": null,
   "id": "18ed8be8-2588-46b7-aaab-e78ca03c549e",
   "metadata": {
    "id": "18ed8be8-2588-46b7-aaab-e78ca03c549e"
   },
   "outputs": [],
   "source": []
  },
  {
   "cell_type": "markdown",
   "id": "a050f86b-2f8d-4473-94a2-29c52ff47a5f",
   "metadata": {
    "id": "a050f86b-2f8d-4473-94a2-29c52ff47a5f"
   },
   "source": [
    "**6)** ¿En qué horas del día se deberían publicar anuncios promocionales para maximizar las ventas?  \n",
    "*Se espera*: `Las horas del día en las que más ventas se registran son: {xx}hs y {yy}hs` *(nótese que se requieren horas del día, como \"10hs\" o \"20hs\")*"
   ]
  },
  {
   "cell_type": "code",
   "execution_count": null,
   "id": "d917acad-8db7-4725-ba74-a5ebd4af62fb",
   "metadata": {
    "id": "d917acad-8db7-4725-ba74-a5ebd4af62fb"
   },
   "outputs": [],
   "source": []
  },
  {
   "cell_type": "markdown",
   "id": "80af09de-5127-4d05-af12-717b72da09ab",
   "metadata": {
    "id": "80af09de-5127-4d05-af12-717b72da09ab"
   },
   "source": [
    "**7)** Determinar productos que se venden juntos y DE A DOS.  \n",
    "*Se espera*: `Los siguientes productos se venden juntos y de a dos: {x}-{y}, {yy}-{zz} ...`  \n",
    "**OBS**: Para una misma *orden* se pueden regitrar varios productos."
   ]
  },
  {
   "cell_type": "code",
   "execution_count": null,
   "id": "b2b1c6c9-5ce4-4285-bd55-675f47f930f9",
   "metadata": {
    "id": "b2b1c6c9-5ce4-4285-bd55-675f47f930f9"
   },
   "outputs": [],
   "source": []
  },
  {
   "cell_type": "markdown",
   "id": "b0ca1fe8-0635-43f8-af2b-cc93f65a0de9",
   "metadata": {
    "id": "b0ca1fe8-0635-43f8-af2b-cc93f65a0de9"
   },
   "source": [
    "**8)** ¿Cuál es el producto más vendido?\n",
    "*Se espera*: `El producto más vendido es {x}`"
   ]
  },
  {
   "cell_type": "code",
   "execution_count": null,
   "id": "95a83318-dd52-4db7-9c66-e079a59f5b57",
   "metadata": {
    "id": "95a83318-dd52-4db7-9c66-e079a59f5b57"
   },
   "outputs": [],
   "source": []
  },
  {
   "cell_type": "markdown",
   "id": "68b4e603-0b45-40df-8ae1-cf999dcd3cdc",
   "metadata": {
    "id": "68b4e603-0b45-40df-8ae1-cf999dcd3cdc"
   },
   "source": [
    "**9)** ¿Cuál es la relación entre el precio del producto más vendido y el del menos vendido?\n",
    "*Se espera:* `El precio del producto más vendido es {n} veces mayor/menor que el producto menos vendido`"
   ]
  },
  {
   "cell_type": "code",
   "execution_count": null,
   "id": "644db79a-3fbf-4802-b332-80a3b29f88f3",
   "metadata": {
    "id": "644db79a-3fbf-4802-b332-80a3b29f88f3"
   },
   "outputs": [],
   "source": []
  },
  {
   "cell_type": "markdown",
   "id": "acb2623e-cad1-46ed-a8ea-3ec0e650901e",
   "metadata": {
    "id": "acb2623e-cad1-46ed-a8ea-3ec0e650901e"
   },
   "source": [
    "**10)** ¿Cuál es la órden con mayor cantidad de productos?\n",
    "*Se espera*: `La órden con mayor cantidad de productos es la número {x}, con {y} productos en total`"
   ]
  },
  {
   "cell_type": "code",
   "execution_count": null,
   "id": "25df688f-02b5-4ba5-995c-8861aea7c43e",
   "metadata": {
    "id": "25df688f-02b5-4ba5-995c-8861aea7c43e"
   },
   "outputs": [],
   "source": []
  }
 ],
 "metadata": {
  "colab": {
   "name": "5.1.analisis-de-ventas.ipynb",
   "provenance": []
  },
  "kernelspec": {
   "display_name": "Python 3 (ipykernel)",
   "language": "python",
   "name": "python3"
  },
  "language_info": {
   "codemirror_mode": {
    "name": "ipython",
    "version": 3
   },
   "file_extension": ".py",
   "mimetype": "text/x-python",
   "name": "python",
   "nbconvert_exporter": "python",
   "pygments_lexer": "ipython3",
   "version": "3.9.7"
  }
 },
 "nbformat": 4,
 "nbformat_minor": 5
}
